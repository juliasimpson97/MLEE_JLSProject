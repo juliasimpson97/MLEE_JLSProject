{
 "cells": [
  {
   "cell_type": "markdown",
   "id": "9fa39d1d-65a9-41a8-94a1-920eb1c1c5e7",
   "metadata": {},
   "source": [
    "# Train and Test Neural Network"
   ]
  },
  {
   "cell_type": "code",
   "execution_count": null,
   "id": "a1bba7ca-14d4-46a3-b89d-9d91db05c338",
   "metadata": {},
   "outputs": [],
   "source": []
  }
 ],
 "metadata": {
  "kernelspec": {
   "display_name": "fromML",
   "language": "python",
   "name": "fromml"
  },
  "language_info": {
   "codemirror_mode": {
    "name": "ipython",
    "version": 3
   },
   "file_extension": ".py",
   "mimetype": "text/x-python",
   "name": "python",
   "nbconvert_exporter": "python",
   "pygments_lexer": "ipython3",
   "version": "3.9.13"
  }
 },
 "nbformat": 4,
 "nbformat_minor": 5
}
