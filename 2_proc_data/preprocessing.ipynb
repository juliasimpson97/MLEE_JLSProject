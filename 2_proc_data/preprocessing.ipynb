{
 "cells": [
  {
   "cell_type": "markdown",
   "id": "e481ed20-eff9-458e-bd1a-6154cacbe90a",
   "metadata": {},
   "source": [
    "# Preprocessing Data"
   ]
  },
  {
   "cell_type": "markdown",
   "id": "15e5b8c2-6bc1-4b3b-95a5-fab579e4e66d",
   "metadata": {},
   "source": [
    "## 2. Data Pre-Processing"
   ]
  },
  {
   "cell_type": "markdown",
   "id": "015969ae-2752-442c-a3a3-ebd823628141",
   "metadata": {},
   "source": [
    "### 2.a. Split into training and test datasets"
   ]
  },
  {
   "cell_type": "code",
   "execution_count": null,
   "id": "5f08cd1a-76fe-484e-a92f-1f96edb10e71",
   "metadata": {},
   "outputs": [],
   "source": [
    "# pull from 1_raw_data and place in 2_proc_data"
   ]
  },
  {
   "cell_type": "code",
   "execution_count": null,
   "id": "1f2bac1e-c686-4aed-9752-36a9d2ddbca2",
   "metadata": {},
   "outputs": [],
   "source": [
    "# to create directories:\n",
    "cwd = os.getcwd() #want this to be 2_proc_data\n",
    "\n",
    "train_path = os.path.join(cwd,'Data','train_val')\n",
    "test_path  = os.path.join(cwd,'Data','test')\n",
    "\n",
    "make_dir(train_path)\n",
    "make_dir(test_path)"
   ]
  },
  {
   "cell_type": "code",
   "execution_count": null,
   "id": "5791fbf6-d097-44cd-a77e-ec80ba0f474b",
   "metadata": {},
   "outputs": [],
   "source": [
    "# Training set\n",
    "train_files = [\"historical\", \"ssp585\", \"ssp126\", \"ssp370\",\"hist-aer\",\"hist-GHG\"] #pick a few CESM members?\n",
    "X_train_xr, X_length  = prepare_predictor(train_files,train_path)\n",
    "y_train_xr, y_length  = prepare_predictand(train_files,train_path)\n",
    "\n",
    "# Test set\n",
    "X_test_xr, _ = prepare_predictor('ssp245', data_path=test_path,time_reindex=False) #use remaining CESM members?\n",
    "y_test_xr, _ = prepare_predictand('ssp245',data_path=test_path,time_reindex=False)"
   ]
  },
  {
   "cell_type": "markdown",
   "id": "689f5a3d-38f5-48fb-8b62-3cd5f077a582",
   "metadata": {},
   "source": [
    "### 2.b. Organize all required variables into a dataframe "
   ]
  },
  {
   "cell_type": "code",
   "execution_count": null,
   "id": "0b27f896-f5cf-4696-a4a5-4f36bf4dbdf8",
   "metadata": {},
   "outputs": [],
   "source": [
    "X_train_df = pd.DataFrame({\"Chl\": X_train_xr[\"CO2\"].data,\n",
    "                           \"MLD\": X_train_xr[\"MLD\"].data,\n",
    "                           \"pCO2\": X_train_xr[\"pC02\"].data,\n",
    "                           \"SSS\": X_train_xr[\"SSS\"].data,\n",
    "                           \"SST\": X_train_xr[\"SST\"].data,\n",
    "                          }, index=X_train_xr[\"pCO2\"].coords['time'].data)\n",
    "\n",
    "X_test_df  = pd.DataFrame({\"Chl\": X_test_xr[\"CO2\"].data,\n",
    "                           \"MLD\": X_test_xr[\"MLD\"].data,\n",
    "                           \"pCO2\": X_test_xr[\"pC02\"].data,\n",
    "                           \"SSS\": X_test_xr[\"SSS\"].data,\n",
    "                           \"SST\": X_test_xr[\"SST\"].data,\n",
    "                          }, index=X_test_xr[\"pCO2\"].coords['time'].data)\n",
    "\n",
    "\n",
    "y_train_df = y_train_xr[\"tas\"].stack(dim=[\"latitude\", \"longitude\"])\n",
    "y_train_df = pd.DataFrame(y_train_df.to_pandas())"
   ]
  },
  {
   "cell_type": "markdown",
   "id": "f672f813-5838-4187-96ab-3462abeb1423",
   "metadata": {},
   "source": [
    "### 2.c. Data Normalization"
   ]
  },
  {
   "cell_type": "code",
   "execution_count": null,
   "id": "cb75f886-f391-4b29-b7fb-776065195a27",
   "metadata": {},
   "outputs": [],
   "source": [
    "# Standardization\n",
    "mean, std = X_train_df.mean(), X_train_df.std()\n",
    "\n",
    "X_train_df   = (X_train_df - mean)/std\n",
    "X_test_df    = (X_test_df - mean)/std\n",
    "\n",
    "X_train = X_train_df.to_numpy()\n",
    "y_train = y_train_df.to_numpy()\n",
    "X_test = X_test_df.to_numpy()\n",
    "\n",
    "print(X_train.shape,y_train.shape,X_test.shape)"
   ]
  }
 ],
 "metadata": {
  "kernelspec": {
   "display_name": "fromML",
   "language": "python",
   "name": "fromml"
  },
  "language_info": {
   "codemirror_mode": {
    "name": "ipython",
    "version": 3
   },
   "file_extension": ".py",
   "mimetype": "text/x-python",
   "name": "python",
   "nbconvert_exporter": "python",
   "pygments_lexer": "ipython3",
   "version": "3.9.13"
  }
 },
 "nbformat": 4,
 "nbformat_minor": 5
}
